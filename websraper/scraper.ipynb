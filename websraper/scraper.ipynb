{
 "cells": [
  {
   "cell_type": "code",
   "execution_count": 42,
   "metadata": {},
   "outputs": [],
   "source": [
    "from bs4 import BeautifulSoup\n",
    "import requests\n",
    "from random import shuffle"
   ]
  },
  {
   "cell_type": "code",
   "execution_count": 48,
   "metadata": {},
   "outputs": [
    {
     "name": "stdout",
     "output_type": "stream",
     "text": [
      "135\n"
     ]
    }
   ],
   "source": [
    "response = requests.get('https://www.delfi.lt/')\n",
    "if response.status_code == 200:\n",
    "    html = response.content\n",
    "    html_soup = BeautifulSoup(html, 'html.parser')\n",
    "    title_tags = html_soup.select('.CBarticleTitle')  # Corrected the CSS selector\n",
    "\n",
    "    titles = []\n",
    "    for tag in title_tags:\n",
    "        titles.append(tag.get_text())\n",
    "\n",
    "\n",
    "title_until_colon = []\n",
    "title_after_colon = []\n",
    "for title in titles:\n",
    "    if ':' in title:\n",
    "        title_until_colon.append(title.split(':')[0])\n",
    "        title_after_colon.append(title.split(':')[1])\n",
    "shuffle(title_after_colon)\n",
    "print(len(title_until_colon))\n",
    "\n",
    "\n"
   ]
  },
  {
   "cell_type": "code",
   "execution_count": 53,
   "metadata": {},
   "outputs": [
    {
     "name": "stdout",
     "output_type": "stream",
     "text": [
      "['Dėl statybų Nidoje prokurorai imasi veiksmų: nelygybė čia didesnė nei tarp didmiesčių ir rajonų', 'Regionuose išskyrė „vietinį elitą“: jie padės užkirsti kelią labai paplitusioms ligoms', 'Karas Ukrainoje. Ukrainoje – dar viena galinga Rusijos ataka: saugiau, lengviau, moderniau', 'Rūkančių moksleivių daugėjant kartais, medikai perspėja: kaip išsiskirti su trečiosios šalies piliečiu, kai jo gyvenamoji vieta nežinoma', 'Nuo refliukso iki priešvėžinės būklės: rastas nuo kelio nuskriejęs motociklas, šalia – negyvas motociklininkas', 'Apie Lietuvos rinktinę prabilęs Ulanovas: pasaulio čempionatas užbaigtas dramatiška pergale prieš JAV', 'Internete plinta kraupus merginos pasakojimas apie Vilniuje vykusį „Rammstein“ vakarėlį: kol filmas – kino ekranuose, specialios akcijos – „Maximose“', 'Karoliniškėse pastebėtas nelauktas svečias: amžinojo poilsio atgulė Romainių 1-osiose kapinėse', 'Pasieniečių poros konfliktas kurorte: Prezidentūros kieme vėl nusidriekė eilės', 'Sostinės Laisvės prospekte laikinai keisis eismas: esu girdėjęs ir blogesnių dalykų', 'Žmonijai laiko liko nedaug: sakė buvusi apsvaiginta, grupės atstovai neigia kaltinimus', 'Fitoterapeutas siūlo nepraeiti pro vieną maistingiausių augalų: rusų laukia didelės staigmenos, svarbiausia išvengti vieno scenarijaus', 'Teisininkas atsako: 3 priežastys, kodėl verta pasinaudoti parama saulės elektrinėms', 'Ukrainos viltys dėl kontrpuolimo: raginama šią gatvę apvažiuoti', 'Rinkimai Turkijoje: Portugalijoje kaina buvo juokinga, bet teko tenkintis skuduru po kojomis, JAV rinką valdo kinai', 'Garsiausio Vilniaus sprogdinimo paslaptys: kaip tai daryti tinkamai ir kodėl nuolatinės pagyros nėra gerai', 'Melitopolio meras: ne viskas priklauso tik nuo jų', 'Prigožinui – niūrios ateities prognozės: tik nesiimkite remonto patys', 'Turkija ir Erdoganas: girtas pareigūnas sužalojo žmoną', 'Psichologė patarė, kaip vaikui pagelbėti geriau mokytis: Erdoganas paskelbė savo pergalę Turkijos antrajame rinkimų ture', 'Apie galingiausią sprogdinimą Vilniuje prabilęs samdomas žudikas Januškevičius: iš artimos partnerės – labai nemalonūs pareiškimai', 'Universitetai bando suprasti dirbtinio intelekto poveikį: saugiau, lengviau, moderniau', 'Melitopolio meras: sau dar ne kartą padėkosite', 'Karas Ukrainoje. Ukrainoje – dar viena galinga Rusijos ataka: uždirba tik 2000, tai tegu pasistengia', 'Paulius Jurkevičius. Europos čekiukų fronte nieko naujo: ar normalu numauti vaikui kelnes prie svetimų žmonių ir liepti jam daryti siusiuką?', 'Albertas Lamauskas. Lietuvos Respublikos Seimo Rinkimai: švietimo sistemos laukia rimti išbandymai', 'Žiniasklaida: tai – mineralų ir vitaminų bomba', 'Internete plinta kraupus merginos pasakojimas apie Vilniuje vykusį „Rammstein“ vakarėlį: ir juoksitės, ir verksite', 'Noriu, kad mane išlaikytų: tai, ką rusai daro okupuotose teritorijose, nepaaiškinama protu', 'Gudrus konservatorių planas virto šnipštu: rusų laukia didelės staigmenos, svarbiausia išvengti vieno scenarijaus', 'Palūkanos – aukštumose, tačiau problemų lietuviams tai nekelia: pristato piliečiams skirtą iniciatyvą', 'Žiniasklaida: duomenys svarbu, bet išskirtiniausiais tampa va bank sprendimai', 'Skaudi nelaimė Lazdijų rajone: šiemet egzaminus laikys per 27 tūkst. šalies abiturientų', 'Į paskutinę kelionę išlydėta aktorė Daiva Rudokaitė: stilingiausi kirpimai vyresnėms moterims', 'Prabilo su Siegel poruotas verslininkas: kaip iš tiesų vyksta aistras visuomenėje keliantis procesas', 'Lietuvis nuvyko į vieną uždariausių pasaulio valstybių: į šį restoraną neleidžia sau ateiti net oligarchai', 'Santykių ekspertas patarė, kaip susirasti antrąją pusę Tinderyje: šįkart netoli Sankt Peterburgo', 'Kiek kainuoja gyvenimas senelių globos namuose: elektroninės cigaretės sukelia naują ligą', 'Replikų dėl to, kad nearia rinktinėje, sulaukęs Ulanovas: už kiekvieną šalyje praleistą dieną turistai turi pakloti po 200 dolerių', 'Ukrainos viltys dėl kontrpuolimo: „Jei nebūčiau to atradus – greičiausiai nebegyvenčiau“', 'Girtam teisėjui pritaikyta malonė paprastiems pareigūnams negalioja: tai turėjo įtakos mano santuokos griūčiai', 'Panevėžyje apsigyvenęs rusas Ruslanas: du rinkos profai išdėstė skirtingus požiūrius, kiek ir kokio turinio reikia internete', 'Katastrofa švietime – visiškai arti: nepamirškite „baltosios beždžionės“ taisyklės', 'Gudrus konservatorių planas virto šnipštu: pirmomis karo dienomis jaučiausi tarsi nuogas eičiau gatvėmis', 'Koronaviruso statistika: болезнь белорусского диктатора - стоит ли готовиться к изменениям у соседей?', 'Rūkančių moksleivių daugėjant kartais, medikai perspėja: žvilgsniai krypsta ir į savininkus', 'Birželio 5-ąją prasideda brandos egzaminų sesija: girtas pareigūnas sužalojo žmoną', 'VSAT: Patruševas gąsdina Europą „radioaktyviu debesiu“', 'Poilsiautojai plūsta iš Neringos: sakė buvusi apsvaiginta, grupės atstovai neigia kaltinimus', 'Čmilytė-Nielsen: laukia permainų savaitė – naujiems darbams tinkamos 2 dienos', 'Užsienio politikos susitarimas: ko pasiekta skandalingomis reklamomis?', 'Daugėja antstoliams perduotų absolventų, negalinčių grąžinti paskolų už studijas: amžinojo poilsio atgulė Romainių 1-osiose kapinėse', 'Ukraina parengė dar vieną staigmeną: „Jei nebūčiau to atradus – greičiausiai nebegyvenčiau“', 'Kurį išėjimo iš chaoso scenarijų rinksis konservatoriai: rusų verslininkai, kurie iki šiol valdo futbolo klubus Europoje', 'Dalyvauti debatuose nenori: ėmė ir toliau ima', 'Blinkevičiūtė lieja pyktį: medžiotojas pasakė, kaip atskirti, tai vilkas ar šuo', 'Noriu, kad mane išlaikytų: raketomis ir dronais užpulti daugelis šalies regionų', 'Эфир Delfi c Екатериной Роякой: po susitikimo su Putinu kritinės būklės Lukašenka paguldytas į ligoninę', '\"Раз в неделю\": lemiamas vaidmuo – Šimonytei', 'Ракеты-невидимки, поражающие мосты и бункеры: mokslininkai apskaičiavo, kada milijardams gyventojų prasidės nepakeliamos kančios', 'Karas Ukrainoje. Ukrainoje – dar viena galinga Rusijos ataka: neveiksnių paskolų dalis – mažiausia istorijoje', 'Prigožinui – niūrios ateities prognozės: kaip jį išsigryninti?', 'Rinkimai Turkijoje: Pavilionis reiškia lūkestį sutarti jau per kelias savaites, Lopata siūlo klausimą stabdyti', 'Rusijoje kilo dar vienas gaisras: šiuo metu prašo 12 eurų už kilogramą', 'Putino puoselėtam „NATO analogui“ iškilo grėsmė: man nėra abejonių dėl Simono Kairio sąžiningumo', 'Melitopolio meras: tas savęs „vanojimas“ tiesiog įaugęs į kraują', 'Žiniasklaida: kokie jie?', 'Dar viena Rusijos provokacija: kainuoja daug, bet nesunku išvengti', 'Norite sužinoti, ar dantų pasta gerai nuvalo apnašas: dvigubi standartai tiesiog glumina', 'Parodė, kas slypi po didžiausia Lietuvoje psichiatrijos ligonine: jau galite ieškoti joms vietos lauke', 'Tarp milijonų šia praktika užsiiminėjančių žmonių pasaulyje ir lietuviai: lemiamas vaidmuo – Šimonytei', 'Palūkanos – aukštumose, tačiau problemų lietuviams tai nekelia: neveiksnių paskolų dalis – mažiausia istorijoje', 'Lietuviškų braškių derlius šiemet gali būti mažesnis: tai, ką rusai daro okupuotose teritorijose, nepaaiškinama protu', 'Kompensacijos už padžiautus tinklus Kuršių marių žvejų nežavi: atgyvenę metodai nepadės', 'Gavęs sąskaitą iš Registrų centro net išsižiojo: jeigu penkerius metus nieko nedarysime, tai neišvengiama', 'Ciniškas požiūris į ūkininkus stebina ir prieniškę Rasą: rusai ima suvokti, jų šalyje prasidėjo pilietinis karas', 'Universitetai bando suprasti dirbtinio intelekto poveikį: paaiškino, kas gali gauti kompensaciją ir kokį papildomą mokestį reikia sumokėti', 'Nužudyto magnato sūnus susikrovė turtus iš smulkių investuotojų kišenės: savamokslis dailininkas jau dabar rengia meno parodas, o ateityje ketina užkariauti roko sceną', 'Kiek kainuoja gyvenimas senelių globos namuose: bent pusė sako, kad iš verslo nesitrauks', 'Vis dar tęsia verslą: santykiai neprasidėjo taip, kaip norėtų įsimylėję žmonės', 'Žinia smulkiam verslui bei ūkininkams: paaiškino, kas gali gauti kompensaciją ir kokį papildomą mokestį reikia sumokėti', 'Nuo refliukso iki priešvėžinės būklės: bauginančią žinutę pasiuntė net sąjungininkas Kadyrovas', 'Kai byra ašaros, Užkalnis valgo: duris atveria skaitmeninių inovacijų centras ir pristatoma sensorinė technologijų paroda', 'Pasiseks ir jums – 6 įpročiai, kuriais vadovavosi be dietų sulieknėję žmonės: užfiksavo nerūpestingus lapiukų žaidimus', 'Renata pataria, kur dėti nepanaudotus svogūnų laiškus ir krapus: per parą į šalį neįleisti penki neteisėti migrantai', 'Sukūrė inovatyvius produktus – augalinius gėrimus iš avižų ir grikių: 9 požymiai, kad jūsų ir partnerio santykiai nėra sveiki', 'Kambarinės gėlės, kurios mėgsta gryną orą: po susitikimo su Putinu kritinės būklės Lukašenka paguldytas į ligoninę', 'Šiauliuose įsikūrusi Viktoriia nuo karo Ukrainoje pabėgo su dviejų mėnesių kūdikiu ant rankų: sukurti grojaraščiai, mažinantys širdies pulsą ir važiavimo greitį', 'Vilnietė pasidygėjo anūką prižiūrėjusių senelių elgesiu: lūkuriuoja ir pykstasi automobilių eilėse', 'Vaikystėje patyręs tėvo išdavystę dabar Paulius sūnų augina visai kitaip: aukso vertės valstybinėje žemėje – įtartinas planas', 'Vaikų vertinimas: elektroninės cigaretės sukelia naują ligą', 'Manikiūras svetur: išgirdęs, kad tapsiu tėčiu, riebiai nusikeikiau', 'Kiek Augustai Zuokei kainavo meilė žinomam politikui: skelbiama renginių programa', 'Keisčiausios skyrybų istorijos: buvau tikras ligų maišas, o šiandien mėgaujuosi sveikata ir ramybe', 'Šukuosenos, kam per 60: atkreipkite dėmesį į tris raides etiketėje', 'Užkalnis: mes dirbame tikrai ne dėl išmokų', 'Langų valymo revoliucija: kodėl Giovanna iš Centrinės Amerikos studijoms pasirinko Kauną, yra labai paprastas paaiškinimas', 'Tyrimo rezultatai nudžiugino: ministerija teigia ruošianti palengvinimus', 'Vandenyno gelmėse aptiko daugiau nei 5000 iki šiol neregėtų padarų rūšių: švietimo sistemos laukia rimti išbandymai', 'Būsimasis apdailninkas Agnius savęs į rėmus nestato: raketomis ir dronais užpulti daugelis šalies regionų', 'Paneigė 6 populiarius mitus apie darbą užsienyje: gal Landsbergis tegul perkrauna kompiuterį, o ne valdžią?', 'Ji yra vienintelė mergina kurse: pasinaudokite keliomis gudrybėmis', 'Kaune prasideda 615-ojo miesto gimtadienio šventė: pripažintas kaltu, bet iki šiol yra laisvėje', 'Nuotraukos, kurios ištirpdys širdį: raginama šią gatvę apvažiuoti', '„Delfi“ kviečia nepraeiti pro svetimą gėdą: tai, ką rusai daro okupuotose teritorijose, nepaaiškinama protu', 'Karoliniškėse pastebėtas nelauktas svečias: medžiotojas pasakė, kaip atskirti, tai vilkas ar šuo', 'Užtvankų likimas – ne tik valstybės rūpestis: buvau tikras ligų maišas, o šiandien mėgaujuosi sveikata ir ramybe', 'Marketingo vadovai papasakojo apie prisiimamas rizikas: bauginančią žinutę pasiuntė net sąjungininkas Kadyrovas', 'Mokamos reklamos klaidos: po susitikimo su Putinu kritinės būklės Lukašenka paguldytas į ligoninę', 'Lojalumo programoms prekybos centruose silpnėjant Kakė Makė meta naują kozirį: Erdoganas paskelbė savo pergalę Turkijos antrajame rinkimų ture', 'Naujos kartos vizitinė kortelė – asmeninis prekės ženklas: что будет с экономикой Литвы в условиях мировой турбулентности?', 'Techninis SEO: papasakojo, kaip sukūrė kitokią kampaniją, prašančią skirti 1,2 proc. GPM', 'Kai liūdnos kačiukų akys nebegraudina: nieko čia nebepadarysi', 'Kiekybė prieš kokybę: kodėl nusikaltimo užsakovus bandė užstoti net elitiniai šalies politikai?', 'Išprovokuoti kalbas – lengva, bet reikia nuspręsti ir kas bus po to: kodėl žmonės toliau už jį balsuoja ir kokie tikrieji turkų planai pasaulyje', 'LRT generalinio direktoriaus rinkimai: grįžo ryte ir prisipažino, kad nusekė paskui šilkinį sijoną', 'Tęsiamas atsisveikinimas su Adamkiene: tas dienas prisimenu kaip blogą sapną', 'Tarp milijonų šia praktika užsiiminėjančių žmonių pasaulyje ir lietuviai: LRT vadovė, siekianti perrinkimo, atsisakė pokalbio studijoje su Aisčiu Zabarausku', 'Langų valymo revoliucija: raketomis ir dronais užpulti daugelis šalies regionų', 'Žinia smulkiam verslui bei ūkininkams: uždirba tik 2000, tai tegu pasistengia', 'Kas šešta pora Lietuvoje – nevaisinga: pergalę nusinešė italai', 'Klaipėdoje prasideda nauja technologijų era: rastas nuo kelio nuskriejęs motociklas, šalia – negyvas motociklininkas', 'Skaudi nelaimė Lazdijų rajone: чем грозит РФ появление Storm Shadow у Украины', 'Pasieniečių poros konfliktas kurorte: už dvi eilutes – beveik 72 eurai ir to dar nepakako', 'Internete plinta kraupus merginos pasakojimas apie Vilniuje vykusį „Rammstein“ vakarėlį: man buvo nesvarbu, kas tie žmonės, kuriems skirtos kulkos ir sprogmenys', 'Monika Liu panašiai patirtą santykių dramą aprašė dainoje: kuo turi kvepėti moteris ir vasara', 'Į paskutinę kelionę išlydėta aktorė Daiva Rudokaitė: 8 nauji susirgimai, mirčių nefiksuota', 'Sostinės Laisvės prospekte laikinai keisis eismas: išsiaiškino, kas stabdo senėjimą – tereikia laikytis vienos paprastos taisyklės', 'Prakalbo apie elektromobilių gedimus: sakė buvusi apsvaiginta, grupės atstovai neigia kaltinimus', 'Naujovė vairuotojams: netiesa, kad atvykėlis darbuotojas bus vertinamas prasčiau nei vietinis', 'Išrinktas pirmasis Lietuvos metų motociklas: 6 kilometrų gylyje veisiasi mokslui dar nežinomi gyviai', 'Bronzinis latvių triumfas: šį skaičių didina ir aplinka, kurioje gyvename', 'Nuomonės formuotoja Agnė Kulitaitė apie vešinčią savikritiką: kas tai yra ir praktiniai patarimai, kaip jį pagerinti', 'Astrologės Lolitos Žukienės horoskopas savaitei (gegužės 29 – birželio 4 d.): požemiais važinėdavo net traukinys', 'Toliau – tik skyrybos: 3 priežastys, kodėl verta pasinaudoti parama saulės elektrinėms']\n"
     ]
    }
   ],
   "source": [
    "result_title = []\n",
    "for text in range(len(title_until_colon)):\n",
    "    result = title_until_colon[text] + ':' + title_after_colon[text]\n",
    "    result_title.append(result)\n",
    "\n",
    "print(result_title)"
   ]
  },
  {
   "cell_type": "code",
   "execution_count": 58,
   "metadata": {},
   "outputs": [
    {
     "data": {
      "text/plain": [
       "['Rinkimai Turkijoje: Portugalijoje kaina buvo juokinga, bet teko tenkintis skuduru po kojomis, JAV rinką valdo kinai',\n",
       " 'Albertas Lamauskas. Lietuvos Respublikos Seimo Rinkimai: švietimo sistemos laukia rimti išbandymai',\n",
       " 'Ukraina parengė dar vieną staigmeną: „Jei nebūčiau to atradus – greičiausiai nebegyvenčiau“',\n",
       " 'Rinkimai Turkijoje: Pavilionis reiškia lūkestį sutarti jau per kelias savaites, Lopata siūlo klausimą stabdyti',\n",
       " 'Ciniškas požiūris į ūkininkus stebina ir prieniškę Rasą: rusai ima suvokti, jų šalyje prasidėjo pilietinis karas']"
      ]
     },
     "execution_count": 58,
     "metadata": {},
     "output_type": "execute_result"
    }
   ],
   "source": [
    "bad_words = 'COVID', 'mirtis', 'karas', 'Ukraina', 'Rinkimai'\n",
    "filtered_titles = []\n",
    "for text in result_title:\n",
    "    for word in bad_words:\n",
    "        if word in text:\n",
    "            filtered_titles.append(text)\n",
    "\n",
    "filtered_titles\n"
   ]
  },
  {
   "cell_type": "code",
   "execution_count": null,
   "metadata": {},
   "outputs": [],
   "source": []
  }
 ],
 "metadata": {
  "kernelspec": {
   "display_name": "Python 3",
   "language": "python",
   "name": "python3"
  },
  "language_info": {
   "codemirror_mode": {
    "name": "ipython",
    "version": 3
   },
   "file_extension": ".py",
   "mimetype": "text/x-python",
   "name": "python",
   "nbconvert_exporter": "python",
   "pygments_lexer": "ipython3",
   "version": "3.10.10"
  },
  "orig_nbformat": 4
 },
 "nbformat": 4,
 "nbformat_minor": 2
}
